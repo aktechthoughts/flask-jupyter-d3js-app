{
 "cells": [
  {
   "cell_type": "code",
   "execution_count": 1,
   "metadata": {},
   "outputs": [],
   "source": [
    "import sys\n",
    "import os\n",
    "import mysql.connector"
   ]
  },
  {
   "cell_type": "code",
   "execution_count": 2,
   "metadata": {},
   "outputs": [],
   "source": [
    "mydb = mysql.connector.connect(\n",
    "  host='mysql-test.cyqas5b0owfs.eu-central-1.rds.amazonaws.com',\n",
    "  user='mysql_admin',\n",
    "  passwd='1nsecure',\n",
    "  database='tweets',\n",
    ")"
   ]
  },
  {
   "cell_type": "code",
   "execution_count": 3,
   "metadata": {},
   "outputs": [],
   "source": [
    "mycursor = mydb.cursor()"
   ]
  },
  {
   "cell_type": "code",
   "execution_count": 4,
   "metadata": {},
   "outputs": [
    {
     "name": "stdout",
     "output_type": "stream",
     "text": [
      "(210753,)\n"
     ]
    }
   ],
   "source": [
    "\n",
    "if __name__== \"__main__\":\n",
    "    sql = \"SELECT COUNT(*) NO_OF_TWEETS FROM Feeds;\"\n",
    "    mycursor.execute(sql)\n",
    "    myresult = mycursor.fetchall()\n",
    "\n",
    "    for x in myresult:\n",
    "          print(x)     \n"
   ]
  },
  {
   "cell_type": "code",
   "execution_count": null,
   "metadata": {},
   "outputs": [],
   "source": []
  }
 ],
 "metadata": {
  "kernelspec": {
   "display_name": "Python 3",
   "language": "python",
   "name": "python3"
  },
  "language_info": {
   "codemirror_mode": {
    "name": "ipython",
    "version": 3
   },
   "file_extension": ".py",
   "mimetype": "text/x-python",
   "name": "python",
   "nbconvert_exporter": "python",
   "pygments_lexer": "ipython3",
   "version": "3.6.9"
  }
 },
 "nbformat": 4,
 "nbformat_minor": 4
}
